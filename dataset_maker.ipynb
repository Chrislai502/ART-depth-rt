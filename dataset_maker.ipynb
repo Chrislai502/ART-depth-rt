{
 "cells": [
  {
   "cell_type": "code",
   "execution_count": null,
   "metadata": {},
   "outputs": [],
   "source": [
    "import cv2\n",
    "import os\n",
    "import h5py\n",
    "import numpy as np\n",
    "import matplotlib.pyplot as plt\n",
    "from scipy.signal import savgol_filter\n",
    "\n",
    "\n",
    "DT=0.02\n",
    "JOINT_NAMES = [\"waist\", \"shoulder\", \"elbow\", \"forearm_roll\", \"wrist_angle\", \"wrist_rotate\"]\n",
    "STATE_NAMES = JOINT_NAMES + [\"gripper\"]\n",
    "\n",
    "\n",
    "def load_hdf5(dataset_dir, dataset_name, skip_frames=0):\n",
    "    dataset_path = os.path.join(dataset_dir, dataset_name)\n",
    "    if not os.path.isfile(dataset_path):\n",
    "        print(f'Dataset does not exist at \\n{dataset_path}\\n')\n",
    "        exit()\n",
    "\n",
    "    with h5py.File(dataset_path, 'r') as root:\n",
    "        compressed = root.attrs.get('compress', False)\n",
    "        \n",
    "        # Apply skip_frames when loading qpos, qvel, and action\n",
    "        qpos = root['/observations/qpos'][()][::skip_frames + 1]\n",
    "        qvel = root['/observations/qvel'][()][::skip_frames + 1]\n",
    "        action = root['/action'][()][::skip_frames + 1]\n",
    "        \n",
    "        image_dict = dict()\n",
    "        for cam_name in root[f'/observations/images/'].keys():\n",
    "            image_dict[cam_name] = root[f'/observations/images/{cam_name}'][()][::skip_frames + 1]\n",
    "\n",
    "        if compressed:\n",
    "            compress_len = root['/compress_len'][()]\n",
    "\n",
    "    if compressed:\n",
    "        for cam_id, cam_name in enumerate(image_dict.keys()):\n",
    "            # un-pad and uncompress\n",
    "            padded_compressed_image_list = image_dict[cam_name]\n",
    "            image_list = []\n",
    "            for frame_id, padded_compressed_image in enumerate(padded_compressed_image_list): # [:1000] to save memory\n",
    "                compressed_image = padded_compressed_image\n",
    "                image = cv2.imdecode(compressed_image, 1)\n",
    "                image_list.append(image)\n",
    "            image_dict[cam_name] = image_list\n",
    "\n",
    "    return qpos, qvel, action, image_dict\n"
   ]
  },
  {
   "cell_type": "code",
   "execution_count": null,
   "metadata": {},
   "outputs": [],
   "source": []
  }
 ],
 "metadata": {
  "language_info": {
   "name": "python"
  }
 },
 "nbformat": 4,
 "nbformat_minor": 2
}
